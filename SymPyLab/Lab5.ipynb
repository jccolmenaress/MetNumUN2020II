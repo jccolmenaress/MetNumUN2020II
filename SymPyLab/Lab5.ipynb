{
  "nbformat": 4,
  "nbformat_minor": 0,
  "metadata": {
    "colab": {
      "name": "Lab5.ipynb",
      "provenance": [],
      "collapsed_sections": []
    },
    "kernelspec": {
      "name": "python3",
      "display_name": "Python 3"
    }
  },
  "cells": [
    {
      "cell_type": "markdown",
      "metadata": {
        "id": "vtY1shFnMal_"
      },
      "source": [
        "# SymPyLab\n",
        "\n",
        "SymPy’s documentation\n",
        "- https://docs.sympy.org/latest/index.html\n"
      ]
    },
    {
      "cell_type": "markdown",
      "metadata": {
        "id": "2U0fAIf5G4rR"
      },
      "source": [
        "## SymPy’s polynomials \n",
        "- https://docs.sympy.org/latest/modules/polys/basics.html#polynomials \n",
        "\n",
        "- (x-1)(x-2)(x-3)(x-4)(x-5) = x^5 - 15 x^4  + 85 x^3 - 225 x^2 + 274 x - 120\n",
        "\n",
        "- (x^5 - 15 x^4  + 85 x^3 - 225 x^2 + 274 x - 120) / (x-1) = x^4  - 14 x^3  + 71 x^2  - 154 x + 120"
      ]
    },
    {
      "cell_type": "markdown",
      "metadata": {
        "id": "GSRpl42A6UXg"
      },
      "source": [
        "<img src=\"https://raw.githubusercontent.com/gjhernandezp/algorithms/master/SymPyLab/sympylabwolfram1.jpg\" /> <img src=\"https://raw.githubusercontent.com/gjhernandezp/algorithms/master/SymPyLab/sympylabwolfram3.jpg\" />\n"
      ]
    },
    {
      "cell_type": "code",
      "metadata": {
        "id": "Fw1yPZWLMb5P",
        "outputId": "ae645d9a-e221-40e1-b8c0-d3f0663f756a",
        "colab": {
          "base_uri": "https://localhost:8080/"
        }
      },
      "source": [
        "from sympy import Symbol\n",
        "from sympy import div\n",
        "\n",
        "x = Symbol('x')\n",
        "\n",
        "p = x**5 - 15*x**4  + 85*x**3 - 225*x**2 + 274*x - 120\n",
        "\n",
        "p, r = div(p,  x-1)\n",
        "\n",
        "print(p)\n",
        "print(r)\n",
        "\n",
        "p, r = div(p,  x-2)\n",
        "\n",
        "print(p)\n",
        "print(r)\n",
        "\n",
        "p, r = div(p,  x-3)\n",
        "\n",
        "print(p)\n",
        "print(r)\n",
        "\n",
        "p, r = div(p,  x-4)\n",
        "\n",
        "print(p)\n",
        "print(r)\n",
        "\n"
      ],
      "execution_count": 131,
      "outputs": [
        {
          "output_type": "stream",
          "text": [
            "x**4 - 14*x**3 + 71*x**2 - 154*x + 120\n",
            "0\n",
            "x**3 - 12*x**2 + 47*x - 60\n",
            "0\n",
            "x**2 - 9*x + 20\n",
            "0\n",
            "x - 5\n",
            "0\n"
          ],
          "name": "stdout"
        }
      ]
    },
    {
      "cell_type": "markdown",
      "metadata": {
        "id": "LrP1xT6VKZrE"
      },
      "source": [
        "## SymPy’s polynomial simple univariate polynomial factorization\n",
        "- https://docs.sympy.org/latest/modules/polys/wester.html#simple-univariate-polynomial-factorization\n",
        "- factor(x\\*\\*5 - 15\\*x\\*\\*4  + 85\\*x\\*\\*3 - 225\\*x\\*\\*2 + 274\\*x - 120)"
      ]
    },
    {
      "cell_type": "markdown",
      "metadata": {
        "id": "2NPChCoPLsls"
      },
      "source": [
        "<img src=\"https://raw.githubusercontent.com/gjhernandezp/algorithms/master/SymPyLab/sympylabwolfram4.jpg\" />\n"
      ]
    },
    {
      "cell_type": "code",
      "metadata": {
        "id": "i2vHjXOIKvQu",
        "outputId": "ea2d7319-1dd6-438d-a7c9-fb7df70259f0",
        "colab": {
          "base_uri": "https://localhost:8080/"
        }
      },
      "source": [
        "from sympy import *\n",
        "x = Symbol('x')\n",
        "factor(x**5 - 15*x**4  + 85*x**3 - 225*x**2 + 274*x - 120)"
      ],
      "execution_count": 132,
      "outputs": [
        {
          "output_type": "execute_result",
          "data": {
            "text/plain": [
              "(x - 5)*(x - 4)*(x - 3)*(x - 2)*(x - 1)"
            ]
          },
          "metadata": {
            "tags": []
          },
          "execution_count": 132
        }
      ]
    },
    {
      "cell_type": "markdown",
      "metadata": {
        "id": "xoq8A5ipMdRa"
      },
      "source": [
        "## SymPy’s solvers\n",
        "- https://docs.sympy.org/latest/tutorial/solvers.html\n",
        "- x\\*\\*5 - 15\\*x\\*\\*4  + 85\\*x\\*\\* 3 - 225\\*x\\*\\* 2 + 274\\*x - 120 = 0"
      ]
    },
    {
      "cell_type": "markdown",
      "metadata": {
        "id": "UpEjlqXZMk8i"
      },
      "source": [
        "<img src=\"https://raw.githubusercontent.com/gjhernandezp/algorithms/master/SymPyLab/sympylabwolfram5.jpg\" />"
      ]
    },
    {
      "cell_type": "code",
      "metadata": {
        "id": "DLzUsS8YMlNK",
        "outputId": "17a66faa-3ebf-4371-b65c-a46a1df9a3e3",
        "colab": {
          "base_uri": "https://localhost:8080/"
        }
      },
      "source": [
        "from sympy import *\n",
        "x = Symbol('x')\n",
        "solveset(Eq(x**5 - 15*x**4  + 85*x**3 - 225*x**2 + 274*x - 120, 0), x)\n"
      ],
      "execution_count": 133,
      "outputs": [
        {
          "output_type": "execute_result",
          "data": {
            "text/plain": [
              "{1, 2, 3, 4, 5}"
            ]
          },
          "metadata": {
            "tags": []
          },
          "execution_count": 133
        }
      ]
    },
    {
      "cell_type": "markdown",
      "metadata": {
        "id": "OtsxSwPmV3Vs"
      },
      "source": [
        "## SymPy’s Symbolic and Numercical Complex Evaluations\n",
        "- https://docs.sympy.org/latest/modules/evalf.html](https://)\n",
        "- x = x1 + I*x2,y = y1 + I*y2, z = z1 + I*z2, x*y*z"
      ]
    },
    {
      "cell_type": "markdown",
      "metadata": {
        "id": "XxWt-AcaZxdp"
      },
      "source": [
        "<img src=\"https://raw.githubusercontent.com/gjhernandezp/algorithms/master/SymPyLab/sympylabwolfram7.jpg\" />"
      ]
    },
    {
      "cell_type": "code",
      "metadata": {
        "id": "ENDQbfLGV31r",
        "outputId": "c9aa1898-7ea8-49b0-bf95-47fd6b73db97",
        "colab": {
          "base_uri": "https://localhost:8080/"
        }
      },
      "source": [
        "from sympy import *\n",
        "x1, x2, y1, y2, z1, z2 = symbols(\"x1 x2 y1 y2 z1 z2\", real=True)  \n",
        "x = x1 + I*x2\n",
        "y = y1 + I*y2\n",
        "z = z1 + I*z2\n",
        "\n",
        "print(x*y*z)\n",
        "print(expand(x*y*z))\n",
        "print(expand((x*y)*z))\n",
        "print(expand(x*(y*z)))\n",
        "\n",
        "w=N(1/(pi + I), 20)\n",
        "print('w=',w)"
      ],
      "execution_count": 134,
      "outputs": [
        {
          "output_type": "stream",
          "text": [
            "(x1 + I*x2)*(y1 + I*y2)*(z1 + I*z2)\n",
            "x1*y1*z1 + I*x1*y1*z2 + I*x1*y2*z1 - x1*y2*z2 + I*x2*y1*z1 - x2*y1*z2 - x2*y2*z1 - I*x2*y2*z2\n",
            "x1*y1*z1 + I*x1*y1*z2 + I*x1*y2*z1 - x1*y2*z2 + I*x2*y1*z1 - x2*y1*z2 - x2*y2*z1 - I*x2*y2*z2\n",
            "x1*y1*z1 + I*x1*y1*z2 + I*x1*y2*z1 - x1*y2*z2 + I*x2*y1*z1 - x2*y1*z2 - x2*y2*z1 - I*x2*y2*z2\n",
            "w= 0.28902548222223624241 - 0.091999668350375232456*I\n"
          ],
          "name": "stdout"
        }
      ]
    },
    {
      "cell_type": "markdown",
      "metadata": {
        "id": "34c6tlW4JXJX"
      },
      "source": [
        "## SymPy’s integrals\n",
        "- https://docs.sympy.org/latest/modules/integrals/integrals.html\n",
        "- [risk-engineering.org](https://risk-engineering.org/notebook/monte-carlo-LHS.html)"
      ]
    },
    {
      "cell_type": "markdown",
      "metadata": {
        "id": "Uz8j617GmnMZ"
      },
      "source": [
        "\n",
        "\n",
        "Let’s start with a simple integration problem in 1D,\n",
        "\n",
        "$$\\int_1^5 x^2 dx$$\n",
        " \n",
        "This is easy to solve analytically, and we can use the SymPy library in case you’ve forgotten how to resolve simple integrals."
      ]
    },
    {
      "cell_type": "code",
      "metadata": {
        "id": "8pLJWumKnJTT",
        "outputId": "c3a96588-2983-46b2-c6db-7ce4496237a7",
        "colab": {
          "base_uri": "https://localhost:8080/"
        }
      },
      "source": [
        "import sympy\n",
        "# we’ll save results using different methods in this data structure, called a dictionary\n",
        "result = {}  \n",
        "x = sympy.Symbol(\"x\")\n",
        "i = sympy.integrate(x**2)\n",
        "print(i)\n",
        "result[\"analytical\"] = float(i.subs(x, 5) - i.subs(x, 1))\n",
        "print(\"Analytical result: {}\".format(result[\"analytical\"]))"
      ],
      "execution_count": 135,
      "outputs": [
        {
          "output_type": "stream",
          "text": [
            "x**3/3\n",
            "Analytical result: 41.333333333333336\n"
          ],
          "name": "stdout"
        }
      ]
    },
    {
      "cell_type": "markdown",
      "metadata": {
        "id": "_kDQHJrFnMah"
      },
      "source": [
        "**Integrating with Monte Carlo** \n",
        "[risk-engineering.org](https://risk-engineering.org/notebook/monte-carlo-LHS.html) \n",
        "\n",
        "We can estimate this integral using a standard Monte Carlo method, where we use the fact that the expectation of a random variable is related to its integral\n",
        "\n",
        "$$\\mathbb{E}(f(x)) = \\int_I f(x) dx $$\n",
        "\n",
        "We will sample a large number N of points in I and calculate their average, and multiply by the range over which we are integrating."
      ]
    },
    {
      "cell_type": "code",
      "metadata": {
        "id": "IAe87LwpFeXY",
        "outputId": "5cea0251-7863-4145-b429-22d4446c7572",
        "colab": {
          "base_uri": "https://localhost:8080/"
        }
      },
      "source": [
        "import numpy\n",
        "N = 1_000_000\n",
        "accum = 0\n",
        "for i in range(N):\n",
        "    x = numpy.random.uniform(1, 5)\n",
        "    accum += x**2\n",
        "volume = 5 - 1\n",
        "result[\"MC\"] = volume * accum / float(N)\n",
        "print(\"Standard Monte Carlo result: {}\".format(result[\"MC\"]))"
      ],
      "execution_count": 136,
      "outputs": [
        {
          "output_type": "stream",
          "text": [
            "Standard Monte Carlo result: 41.334108368601726\n"
          ],
          "name": "stdout"
        }
      ]
    },
    {
      "cell_type": "markdown",
      "metadata": {
        "id": "Y-h16ObloBhp"
      },
      "source": [
        "- integrate(x\\*\\*2 * sin(x)\\*\\*3)\n",
        "\n",
        "<img src=\"https://raw.githubusercontent.com/gjhernandezp/algorithms/master/SymPyLab/sympylabwolfram8.jpg\" />"
      ]
    },
    {
      "cell_type": "code",
      "metadata": {
        "id": "tOPpWf2uoI1w",
        "outputId": "91170a64-2c13-4c43-b4f9-0cbc5de357eb",
        "colab": {
          "base_uri": "https://localhost:8080/"
        }
      },
      "source": [
        "import sympy\n",
        "x = sympy.Symbol(\"x\")\n",
        "i = sympy.integrate(x**2 * sympy.sin(x)**3)\n",
        "print(i)\n",
        "print(float(i.subs(x, 5) - i.subs(x, 1)))"
      ],
      "execution_count": 137,
      "outputs": [
        {
          "output_type": "stream",
          "text": [
            "-x**2*sin(x)**2*cos(x) - 2*x**2*cos(x)**3/3 + 14*x*sin(x)**3/9 + 4*x*sin(x)*cos(x)**2/3 + 14*sin(x)**2*cos(x)/9 + 40*cos(x)**3/27\n",
            "-15.42978215330555\n"
          ],
          "name": "stdout"
        }
      ]
    },
    {
      "cell_type": "code",
      "metadata": {
        "id": "4E6DQ8b0po0I",
        "outputId": "e6cae9b8-6448-411b-fdd1-fd25f4c94550",
        "colab": {
          "base_uri": "https://localhost:8080/"
        }
      },
      "source": [
        "import numpy\n",
        "import math\n",
        "N = 100_000\n",
        "accum = 0\n",
        "l =[]\n",
        "for i in range(N):\n",
        "    x = numpy.random.uniform(1, 5)\n",
        "    accum += x**2 * math.sin(x)**3\n",
        "volume = 5 - 1\n",
        "result[\"MC\"] = volume * accum / float(N)\n",
        "print(\"Standard Monte Carlo result: {}\".format(result[\"MC\"]))"
      ],
      "execution_count": 138,
      "outputs": [
        {
          "output_type": "stream",
          "text": [
            "Standard Monte Carlo result: -15.472026970946086\n"
          ],
          "name": "stdout"
        }
      ]
    },
    {
      "cell_type": "markdown",
      "metadata": {
        "id": "l362l5XHoILR"
      },
      "source": [
        "**A higher dimensional integral** [risk-engineering.org](https://risk-engineering.org/notebook/monte-carlo-LHS.html) \n",
        "\n",
        "\n",
        "Let us now analyze an integration problem in dimension 4, the Ishigami function. This is a well-known function in numerical optimization and stochastic analysis, because it is very highly non-linear."
      ]
    },
    {
      "cell_type": "code",
      "metadata": {
        "id": "krm2hdVoY8Tm",
        "outputId": "88941c57-3408-4bc7-f629-9eb7d01d1b55",
        "colab": {
          "base_uri": "https://localhost:8080/"
        }
      },
      "source": [
        "import sympy\n",
        "\n",
        "x1 = sympy.Symbol(\"x1\")\n",
        "x2 = sympy.Symbol(\"x2\")\n",
        "x3 = sympy.Symbol(\"x3\")\n",
        "expr = sympy.sin(x1) + 7*sympy.sin(x2)**2 + 0.1 * x3**4 * sympy.sin(x1)\n",
        "res = sympy.integrate(expr,\n",
        "                      (x1, -sympy.pi, sympy.pi),\n",
        "                      (x2, -sympy.pi, sympy.pi),\n",
        "                      (x3, -sympy.pi, sympy.pi))\n",
        "# Note: we use float(res) to convert res from symbolic form to floating point form\n",
        "result = {} \n",
        "result[\"analytical\"] = float(res)\n",
        "print(\"Analytical result: {}\".format(result[\"analytical\"]))"
      ],
      "execution_count": 139,
      "outputs": [
        {
          "output_type": "stream",
          "text": [
            "Analytical result: 868.175747048395\n"
          ],
          "name": "stdout"
        }
      ]
    },
    {
      "cell_type": "code",
      "metadata": {
        "id": "GWraXqA0a0I1",
        "outputId": "0a53929e-8c1f-4d9b-9d92-f776523fd0ba",
        "colab": {
          "base_uri": "https://localhost:8080/"
        }
      },
      "source": [
        "N = 10_000\n",
        "accum = 0\n",
        "for i in range(N):\n",
        "    xx1 = numpy.random.uniform(-numpy.pi, numpy.pi)\n",
        "    xx2 = numpy.random.uniform(-numpy.pi, numpy.pi)\n",
        "    xx3 = numpy.random.uniform(-numpy.pi, numpy.pi)\n",
        "    accum += numpy.sin(xx1) + 7*numpy.sin(xx2)**2 + 0.1 * xx3**4 * numpy.sin(xx1)\n",
        "volume = (2 * numpy.pi)**3\n",
        "result = {} \n",
        "result[\"MC\"] = volume * accum / float(N)\n",
        "print(\"Standard Monte Carlo result: {}\".format(result[\"MC\"]))"
      ],
      "execution_count": 140,
      "outputs": [
        {
          "output_type": "stream",
          "text": [
            "Standard Monte Carlo result: 875.2189577312283\n"
          ],
          "name": "stdout"
        }
      ]
    },
    {
      "cell_type": "code",
      "metadata": {
        "id": "GEVLchJtbgdN"
      },
      "source": [
        "import math\n",
        "import numpy\n",
        "# adapted from https://mail.scipy.org/pipermail/scipy-user/2013-June/034744.html\n",
        "def halton(dim: int, nbpts: int):\n",
        "    h = numpy.full(nbpts * dim, numpy.nan)\n",
        "    p = numpy.full(nbpts, numpy.nan)\n",
        "    P = [2, 3, 5, 7, 11, 13, 17, 19, 23, 29, 31]\n",
        "    lognbpts = math.log(nbpts + 1)\n",
        "    for i in range(dim):\n",
        "        b = P[i]\n",
        "        n = int(math.ceil(lognbpts / math.log(b)))\n",
        "        for t in range(n):\n",
        "            p[t] = pow(b, -(t + 1))\n",
        "\n",
        "        for j in range(nbpts):\n",
        "            d = j + 1\n",
        "            sum_ = math.fmod(d, b) * p[0]\n",
        "            for t in range(1, n):\n",
        "                d = math.floor(d / b)\n",
        "                sum_ += math.fmod(d, b) * p[t]\n",
        "\n",
        "            h[j*dim + i] = sum_\n",
        "    return h.reshape(nbpts, dim)"
      ],
      "execution_count": 141,
      "outputs": []
    },
    {
      "cell_type": "code",
      "metadata": {
        "id": "icR0xmtacj7h",
        "outputId": "f981da63-0d84-4bf9-d5be-991e9b27491a",
        "colab": {
          "base_uri": "https://localhost:8080/",
          "height": 335
        }
      },
      "source": [
        "import sys\n",
        "import matplotlib.pyplot as plt\n",
        "N = 1000\n",
        "seq = halton(2, N)\n",
        "plt.title(\"2D Halton sequence\")\n",
        "# Note: we use \"alpha=0.5\" in the scatterplot so that the plotted points are semi-transparent\n",
        "# (alpha-transparency of 0.5 out of 1), so that we can see when any points are superimposed.\n",
        "plt.axes()\n",
        "plt.scatter(seq[:,0], seq[:,1], marker=\".\", alpha=0.5);"
      ],
      "execution_count": 142,
      "outputs": [
        {
          "output_type": "stream",
          "text": [
            "/usr/local/lib/python3.6/dist-packages/ipykernel_launcher.py:8: MatplotlibDeprecationWarning: Adding an axes using the same arguments as a previous axes currently reuses the earlier instance.  In a future version, a new instance will always be created and returned.  Meanwhile, this warning can be suppressed, and the future behavior ensured, by passing a unique label to each axes instance.\n",
            "  \n"
          ],
          "name": "stderr"
        },
        {
          "output_type": "display_data",
          "data": {
            "image/png": "[encoded data removed]",
            "text/plain": [
              "<Figure size 432x288 with 1 Axes>"
            ]
          },
          "metadata": {
            "tags": [],
            "needs_background": "light"
          }
        }
      ]
    },
    {
      "cell_type": "code",
      "metadata": {
        "id": "OPhHs-WqbMmk",
        "outputId": "b6015032-47dc-4ae9-aee1-0d496d8e7eae",
        "colab": {
          "base_uri": "https://localhost:8080/"
        }
      },
      "source": [
        "N = 10_000\n",
        "\n",
        "seq = halton(3, N)\n",
        "accum = 0\n",
        "for i in range(N):\n",
        "    xx1 = -numpy.pi + seq[i][0] * numpy.pi * 2\n",
        "    xx2 = -numpy.pi + seq[i][1] * numpy.pi * 2\n",
        "    xx3 = -numpy.pi + seq[i][2] * numpy.pi * 2\n",
        "    accum += numpy.sin(xx1) + 7*numpy.sin(xx2)**2 + 0.1 * xx3**4 * numpy.sin(xx1)\n",
        "volume = (2 * numpy.pi)**3\n",
        "result = {} \n",
        "result[\"MC\"] = volume * accum / float(N)\n",
        "print(\"Qausi Monte Carlo Halton Sequence result: {}\".format(result[\"MC\"]))"
      ],
      "execution_count": 143,
      "outputs": [
        {
          "output_type": "stream",
          "text": [
            "Qausi Monte Carlo Halton Sequence result: 868.238928030592\n"
          ],
          "name": "stdout"
        }
      ]
    },
    {
      "cell_type": "markdown",
      "metadata": {
        "id": "eaqIgmnkPNVT"
      },
      "source": [
        "## Wolfram alpha answers quastion in natural languaje\n",
        "- What is the average temperature in Bogota in September?\n",
        "\n",
        "<img src=\"https://raw.githubusercontent.com/gjhernandezp/algorithms/master/SymPyLab/sympylabwolfram6.jpg\" />"
      ]
    },
    {
      "cell_type": "markdown",
      "metadata": {
        "id": "a_-BOy23Sduz"
      },
      "source": [
        "## Laboratorio #5 - Uso de Sympy"
      ]
    },
    {
      "cell_type": "markdown",
      "metadata": {
        "id": "mAzF_G5fxSzn"
      },
      "source": [
        "1) Modify the code of SymPyLab form github to add cells and images from Wolfram Alpha for the polynomial (x-1)(x-2)(x-3)(x-4)(x-5)(x-6)(x-7)(x-8)(x-9)(x-10) and integrals of one dimensional an three dimensional functions that are product of a polynomial, log, sin, and e^. and the other cells create you own examples."
      ]
    },
    {
      "cell_type": "markdown",
      "metadata": {
        "id": "es5hvPzhxZMZ"
      },
      "source": [
        "<img src=\"https://raw.githubusercontent.com/Ojtinjacar/AlgorithmsUN2020II/master/Lab5/wolf_img_1.jpg\"/>"
      ]
    },
    {
      "cell_type": "markdown",
      "metadata": {
        "id": "Mobj-Eray9Hz"
      },
      "source": [
        "## SymPy’s polynomials \n",
        "- (x-1)(x-2)(x-3)(x-4)(x-5)(x-6)(x-7)(x-8)(x-9)(x-10) = x^10 - 55 x^9 + 1320 x^8 - 18150 x^7 + 157773 x^6 - 902055 x^5 + 3416930 x^4 - 8409500 x^3 + 12753576 x^2 - 10628640 x + 3628800"
      ]
    },
    {
      "cell_type": "code",
      "metadata": {
        "id": "LYHUlMY1z7hS",
        "outputId": "927b2c7c-eb5c-4084-8e93-ed238803125c",
        "colab": {
          "base_uri": "https://localhost:8080/"
        }
      },
      "source": [
        "from sympy import Symbol\n",
        "from sympy import div\n",
        "\n",
        "x = Symbol('x')\n",
        "\n",
        "p = x**10 - 55*x**9 + 1320*x**8 - 18150*x**7 + 157773*x**6 - 902055*x**5 + 3416930*x**4 - 8409500*x**3 + 12753576*x**2 - 10628640*x + 3628800\n",
        "p, r = div(p,  x-1)\n",
        "\n",
        "print(p)\n",
        "print(r)\n",
        "\n",
        "p, r = div(p,  x-2)\n",
        "\n",
        "print(p)\n",
        "print(r)\n",
        "\n",
        "p, r = div(p,  x-3)\n",
        "\n",
        "print(p)\n",
        "print(r)\n",
        "\n",
        "p, r = div(p,  x-4)\n",
        "\n",
        "print(p)\n",
        "print(r)\n",
        "\n",
        "p, r = div(p,  x-5)\n",
        "\n",
        "print(p)\n",
        "print(r)\n",
        "\n",
        "p, r = div(p,  x-6)\n",
        "\n",
        "print(p)\n",
        "print(r)\n",
        "\n",
        "p, r = div(p,  x-7)\n",
        "\n",
        "print(p)\n",
        "print(r)\n",
        "\n",
        "p, r = div(p,  x-8)\n",
        "\n",
        "print(p)\n",
        "print(r)\n",
        "\n",
        "p, r = div(p,  x-9)\n",
        "\n",
        "print(p)\n",
        "print(r)\n",
        "\n"
      ],
      "execution_count": 144,
      "outputs": [
        {
          "output_type": "stream",
          "text": [
            "x**9 - 54*x**8 + 1266*x**7 - 16884*x**6 + 140889*x**5 - 761166*x**4 + 2655764*x**3 - 5753736*x**2 + 6999840*x - 3628800\n",
            "0\n",
            "x**8 - 52*x**7 + 1162*x**6 - 14560*x**5 + 111769*x**4 - 537628*x**3 + 1580508*x**2 - 2592720*x + 1814400\n",
            "0\n",
            "x**7 - 49*x**6 + 1015*x**5 - 11515*x**4 + 77224*x**3 - 305956*x**2 + 662640*x - 604800\n",
            "0\n",
            "x**6 - 45*x**5 + 835*x**4 - 8175*x**3 + 44524*x**2 - 127860*x + 151200\n",
            "0\n",
            "x**5 - 40*x**4 + 635*x**3 - 5000*x**2 + 19524*x - 30240\n",
            "0\n",
            "x**4 - 34*x**3 + 431*x**2 - 2414*x + 5040\n",
            "0\n",
            "x**3 - 27*x**2 + 242*x - 720\n",
            "0\n",
            "x**2 - 19*x + 90\n",
            "0\n",
            "x - 10\n",
            "0\n"
          ],
          "name": "stdout"
        }
      ]
    },
    {
      "cell_type": "markdown",
      "metadata": {
        "id": "grQf117F2VzS"
      },
      "source": [
        "## SymPy’s polynomial simple univariate polynomial factorization\n",
        "- factor(x\\*\\*10 - 55\\*x\\*\\*9 + 1320\\*x\\*\\*8 - 18150\\*x\\*\\*7 + 157773\\*x\\*\\*6 - 902055\\*x\\*\\*5 + 3416930\\*x\\*\\*4 - 8409500\\*x\\*\\*3 + 12753576\\*x\\*\\*2 - 10628640\\*x + 3628800)"
      ]
    },
    {
      "cell_type": "markdown",
      "metadata": {
        "id": "PN9kKS2MUiuz"
      },
      "source": [
        "<img src=\"https://raw.githubusercontent.com/Ojtinjacar/AlgorithmsUN2020II/master/Lab5/wolf_img_2.jpg\"/>"
      ]
    },
    {
      "cell_type": "code",
      "metadata": {
        "id": "R7gagX5H2we1",
        "outputId": "2b7a2385-1864-40ee-8c3d-ed6cc8789a0e",
        "colab": {
          "base_uri": "https://localhost:8080/"
        }
      },
      "source": [
        "from sympy import *\n",
        "x = Symbol('x')\n",
        "factor(x**10 - 55*x**9 + 1320*x**8 - 18150*x**7 + 157773*x**6 - 902055*x**5 + 3416930*x**4 - 8409500*x**3 + 12753576*x**2 - 10628640*x + 3628800)"
      ],
      "execution_count": 145,
      "outputs": [
        {
          "output_type": "execute_result",
          "data": {
            "text/plain": [
              "(x - 10)*(x - 9)*(x - 8)*(x - 7)*(x - 6)*(x - 5)*(x - 4)*(x - 3)*(x - 2)*(x - 1)"
            ]
          },
          "metadata": {
            "tags": []
          },
          "execution_count": 145
        }
      ]
    },
    {
      "cell_type": "markdown",
      "metadata": {
        "id": "DP9CApS84O-A"
      },
      "source": [
        "## SymPy’s solvers\n",
        "- x\\*\\*5 - 15\\*x\\*\\*4  + 85\\*x\\*\\* 3 - 225\\*x\\*\\* 2 + 274\\*x - 120 = 0"
      ]
    },
    {
      "cell_type": "markdown",
      "metadata": {
        "id": "vnv5EWHaUm-9"
      },
      "source": [
        "<img src=\"https://raw.githubusercontent.com/Ojtinjacar/AlgorithmsUN2020II/master/Lab5/wolf_img_3.jpg\"/>"
      ]
    },
    {
      "cell_type": "code",
      "metadata": {
        "id": "gc4XW02_0nut",
        "outputId": "80123474-d699-47ac-8e7a-b1c618401413",
        "colab": {
          "base_uri": "https://localhost:8080/"
        }
      },
      "source": [
        "from sympy import *\n",
        "x = Symbol('x')\n",
        "solveset(Eq(x**10 - 55*x**9 + 1320*x**8 - 18150*x**7 + 157773*x**6 - 902055*x**5 + 3416930*x**4 - 8409500*x**3 + 12753576*x**2 - 10628640*x + 3628800), x)\n"
      ],
      "execution_count": 146,
      "outputs": [
        {
          "output_type": "execute_result",
          "data": {
            "text/plain": [
              "{1, 2, 3, 4, 5, 6, 7, 8, 9, 10}"
            ]
          },
          "metadata": {
            "tags": []
          },
          "execution_count": 146
        }
      ]
    },
    {
      "cell_type": "markdown",
      "metadata": {
        "id": "xDyD-v582LHr"
      },
      "source": [
        "Vamos a trabajar con 3 integrales de una variable.\n",
        "\n",
        "1)\n",
        "\n",
        "$$\\int_2^3 \\frac{cos(x)}{x} dx$$\n",
        " \n"
      ]
    },
    {
      "cell_type": "code",
      "metadata": {
        "id": "y1-rfsd34xLV",
        "outputId": "ed0bf80a-5407-4a5a-89ea-cf7ce28057d5",
        "colab": {
          "base_uri": "https://localhost:8080/"
        }
      },
      "source": [
        "import sympy\n",
        "result = {}  \n",
        "x = sympy.Symbol(\"x\")\n",
        "i = sympy.integrate(sympy.cos(x)/x)\n",
        "print(i)\n",
        "result[\"analytical\"] = float(i.subs(x, 3) - i.subs(x, 2))\n",
        "print(\"Analytical result: {}\".format(result[\"analytical\"]))"
      ],
      "execution_count": 147,
      "outputs": [
        {
          "output_type": "stream",
          "text": [
            "-log(x) + log(x**2)/2 + Ci(x)\n",
            "Analytical result: -0.30335104276686464\n"
          ],
          "name": "stdout"
        }
      ]
    },
    {
      "cell_type": "markdown",
      "metadata": {
        "id": "xLVvzzo7V2mp"
      },
      "source": [
        "<img src=\"https://raw.githubusercontent.com/Ojtinjacar/AlgorithmsUN2020II/master/Lab5/wolf_img_4.jpg\"/>"
      ]
    },
    {
      "cell_type": "markdown",
      "metadata": {
        "id": "YB3Z7NcuV8Hz"
      },
      "source": [
        "2) \n",
        "$$\\int_0^{\\pi/2} 2\\pi cos^2(x) dx$$\n"
      ]
    },
    {
      "cell_type": "code",
      "metadata": {
        "id": "FP-hAAs19S-U",
        "outputId": "9233b436-01a4-4e1b-e8df-88300cbf6efc",
        "colab": {
          "base_uri": "https://localhost:8080/"
        }
      },
      "source": [
        "import sympy\n",
        "result = {}  \n",
        "x = sympy.Symbol(\"x\")\n",
        "i = sympy.integrate(2 * sympy.pi * sympy.cos(x)**2)\n",
        "print(i)\n",
        "result[\"analytical\"] = float(i.subs(x, sympy.pi/2) - i.subs(x, 0))\n",
        "print(\"Analytical result: {}\".format(result[\"analytical\"]))"
      ],
      "execution_count": 148,
      "outputs": [
        {
          "output_type": "stream",
          "text": [
            "2*pi*(x/2 + sin(x)*cos(x)/2)\n",
            "Analytical result: 4.934802200544679\n"
          ],
          "name": "stdout"
        }
      ]
    },
    {
      "cell_type": "markdown",
      "metadata": {
        "id": "l735WedPEU9W"
      },
      "source": [
        "<img src=\"https://raw.githubusercontent.com/Ojtinjacar/AlgorithmsUN2020II/master/Lab5/wolf_img_5.jpg\"/>"
      ]
    },
    {
      "cell_type": "markdown",
      "metadata": {
        "id": "NXUniIh9ZLAv"
      },
      "source": [
        "3)\n",
        "$$\\int_\\frac{3}{2}^3 e^x sen(x) cos(x) dx$$\n"
      ]
    },
    {
      "cell_type": "code",
      "metadata": {
        "id": "jNfs8axIajQv",
        "outputId": "a6089c72-a145-4bac-d0d1-89d58f36c850",
        "colab": {
          "base_uri": "https://localhost:8080/"
        }
      },
      "source": [
        "import sympy\n",
        "result = {}  \n",
        "x = sympy.Symbol(\"x\")\n",
        "i = sympy.integrate(sympy.exp(1)**x * sympy.sin(x) * sympy.cos(x))\n",
        "print(i)\n",
        "result[\"analytical\"] = float(i.subs(x, 3) - i.subs(x, 3/2))\n",
        "print(\"Analytical result: {}\".format(result[\"analytical\"]))"
      ],
      "execution_count": 149,
      "outputs": [
        {
          "output_type": "stream",
          "text": [
            "exp(x)*sin(x)**2/5 + exp(x)*sin(x)*cos(x)/5 - exp(x)*cos(x)**2/5\n",
            "Analytical result: -5.368941489730238\n"
          ],
          "name": "stdout"
        }
      ]
    },
    {
      "cell_type": "markdown",
      "metadata": {
        "id": "bqjJFyQvEW9h"
      },
      "source": [
        "<img src=\"https://raw.githubusercontent.com/Ojtinjacar/AlgorithmsUN2020II/master/Lab5/wolf_img_6.jpg\"/>"
      ]
    },
    {
      "cell_type": "markdown",
      "metadata": {
        "id": "Lumif-l0dqAL"
      },
      "source": [
        "Vamos a trabajar con integrales en 2 variables\n",
        "\n",
        "1)\n",
        "\n",
        "$$\\int_0^1 \\int_0^{2-2x} (1+3x+y )  dydx$$\n"
      ]
    },
    {
      "cell_type": "code",
      "metadata": {
        "id": "DcCFVBXVdwI8",
        "outputId": "b2b3b893-a607-4b06-942b-d38eef17db98",
        "colab": {
          "base_uri": "https://localhost:8080/"
        }
      },
      "source": [
        "import sympy\n",
        "x = sympy.Symbol(\"x\")\n",
        "y = sympy.Symbol(\"y\")\n",
        "i = sympy.integrate(1 + 3*x + y,(y,0,2-2*x)) ##En los parámetros de \"integrate\", tenemos también una forma en la cuál\n",
        "i2 = sympy.integrate(1 + 3*x + y,y)          ##se ingresa la función, y seguido de una coma (,), ingresamos la variable a integrar  \n",
        "print(i2)                                    ## y los límites de la misma.\n",
        "t2 = sympy.integrate(i,x)                    ## A partir de acá y en los demás ejercicios, se trabajará con esos dos parámetros.\n",
        "print(t2)\n",
        "t = sympy.integrate(i,(x,0,1))\n",
        "print(\"Analytical result: {}\".format(t))\n"
      ],
      "execution_count": 150,
      "outputs": [
        {
          "output_type": "stream",
          "text": [
            "y**2/2 + y*(3*x + 1)\n",
            "-4*x**3/3 + 4*x\n",
            "Analytical result: 8/3\n"
          ],
          "name": "stdout"
        }
      ]
    },
    {
      "cell_type": "markdown",
      "metadata": {
        "id": "2wlBaI0hEjPA"
      },
      "source": [
        "<img src=\"https://raw.githubusercontent.com/Ojtinjacar/AlgorithmsUN2020II/master/Lab5/wolf_img_7.jpg\"/>"
      ]
    },
    {
      "cell_type": "markdown",
      "metadata": {
        "id": "OR1lzx3Npr_b"
      },
      "source": [
        "2) \n",
        "\n",
        "$$\\int_{-3}^{3} \\int_1^{\\sqrt{9-x^2}} e^xy  dydx$$\n"
      ]
    },
    {
      "cell_type": "code",
      "metadata": {
        "id": "Q7dekYT_fWwH",
        "outputId": "2a3e4229-5251-4906-a94e-ff9714582b18",
        "colab": {
          "base_uri": "https://localhost:8080/"
        }
      },
      "source": [
        "import math\n",
        "import sympy\n",
        "\n",
        "x = Symbol(\"x\")\n",
        "y = Symbol(\"y\")\n",
        "i = sympy.integrate((sympy.exp(1)**x)*y,(y,1,(9-x**2)**(1/2)))\n",
        "print(i)\n",
        "t2 = sympy.integrate(i,x)\n",
        "print(t2)\n",
        "t = sympy.integrate(i,(x,-3,3))\n",
        "print(\"Analytical result: {}\".format(t))\n",
        "print(4.5*math.exp(-3)+1.5*math.exp(3)) ##Incorporamos la librería math, para dar un resultado numérico\n"
      ],
      "execution_count": 151,
      "outputs": [
        {
          "output_type": "stream",
          "text": [
            "(-x**2 + 9)**1.0*exp(x)/2 - exp(x)/2\n",
            "x*exp(x) + 0.5*(-x**2 + 9)**1.0*exp(x) - 1.5*exp(x)\n",
            "Analytical result: 4.5*exp(-3) + 1.5*exp(3)\n",
            "30.35234719243689\n"
          ],
          "name": "stdout"
        }
      ]
    },
    {
      "cell_type": "markdown",
      "metadata": {
        "id": "5PjRS_lpEu8A"
      },
      "source": [
        "A partir de ahora usamos una página parecida a Wolfram, pero su nombre es Symbolab.\n",
        "Se realiza esto, porque cuando se intentó calcular algunas integrales dobles y triples, no encontrabamos soluciones.\n",
        "<img src=\"https://raw.githubusercontent.com/Ojtinjacar/AlgorithmsUN2020II/master/Lab5/symb_img_8.jpg\"/>"
      ]
    },
    {
      "cell_type": "markdown",
      "metadata": {
        "id": "cScCw1eM063c"
      },
      "source": [
        "3)\n",
        "\n",
        "$$\\int _{\\frac{\\pi }{4}}^{\\frac{\\pi }{2}}\\:\\int _2^{x^2}x^2ln\\left(y\\right)dydx$$\n"
      ]
    },
    {
      "cell_type": "code",
      "metadata": {
        "id": "uEx4m9-PwfVG",
        "outputId": "462e55c3-7032-48cf-806f-31ce6961ba5e",
        "colab": {
          "base_uri": "https://localhost:8080/"
        }
      },
      "source": [
        "import math\n",
        "import sympy\n",
        "\n",
        "x = Symbol(\"x\")\n",
        "y = Symbol(\"y\")\n",
        "i = sympy.integrate((x**2*sympy.ln(y)),(y,2,x**2))\n",
        "print(i)\n",
        "t2 = sympy.integrate(i,x)\n",
        "print(t2)\n",
        "t = sympy.integrate(i,(x,sympy.pi/4,sympy.pi/2))\n",
        "print(\"Analytical result: {}\".format(t))\n",
        "print(-217*math.pi**5/25600 - math.pi**5*math.log(math.pi**2/16)/5120 + 7*math.pi**3*(-2*math.log(2)/3 + 2/3)/64 + math.pi**5*math.log(math.pi**2/4)/160)\n"
      ],
      "execution_count": 152,
      "outputs": [
        {
          "output_type": "stream",
          "text": [
            "x**4*log(x**2) - x**4 - 2*x**2*log(2) + 2*x**2\n",
            "x**5*log(x**2)/5 - 7*x**5/25 + x**3*(-2*log(2)/3 + 2/3)\n",
            "Analytical result: -217*pi**5/25600 - pi**5*log(pi**2/16)/5120 + 7*pi**3*(-2*log(2)/3 + 2/3)/64 + pi**5*log(pi**2/4)/160\n",
            "-0.14394799304112094\n"
          ],
          "name": "stdout"
        }
      ]
    },
    {
      "cell_type": "markdown",
      "metadata": {
        "id": "Or_or7eSFBVX"
      },
      "source": [
        "<img src=\"https://raw.githubusercontent.com/Ojtinjacar/AlgorithmsUN2020II/master/Lab5/symb_img_9.jpg\"/>"
      ]
    },
    {
      "cell_type": "markdown",
      "metadata": {
        "id": "CqMY8ozd5YWh"
      },
      "source": [
        "Y para finalizar, vamos a trabajar con integrales de 3 variables\n",
        "\n",
        "1)\n",
        "\n",
        "$$\\int _0^2\\int _0^{z^2}\\int _0^{y-z}\\left(2x-y\\right)dxdydz\\:\\:$$"
      ]
    },
    {
      "cell_type": "code",
      "metadata": {
        "id": "kYRN9pe01cgq",
        "outputId": "914f8f69-46e4-4794-a4cc-7c5f5f8557ac",
        "colab": {
          "base_uri": "https://localhost:8080/"
        }
      },
      "source": [
        "import sympy\n",
        "\n",
        "x = sympy.Symbol(\"x\")\n",
        "y = sympy.Symbol(\"y\")\n",
        "z = sympy.Symbol(\"z\")\n",
        "\n",
        "i = sympy.integrate(2*x-y,(x,0,y-z)) ##En este caso, tomamos el resultado de la integral \"i\" y la aplicamos en la siguiente integral\n",
        "print(i)                             ## que tiene como resultado \"t\" e iteramos con las demás variables\n",
        "t = sympy.integrate(i,(y,0,z**2))\n",
        "print(t)\n",
        "r = sympy.integrate(t,(z,0,2))\n",
        "print(r)\n",
        "\n",
        "print(\"Analytical result: {}\".format(r))\n"
      ],
      "execution_count": 153,
      "outputs": [
        {
          "output_type": "stream",
          "text": [
            "-y*(y - z) + (y - z)**2\n",
            "-z**5/2 + z**4\n",
            "16/15\n",
            "Analytical result: 16/15\n"
          ],
          "name": "stdout"
        }
      ]
    },
    {
      "cell_type": "markdown",
      "metadata": {
        "id": "iy-zCkRUFEPj"
      },
      "source": [
        "<img src=\"https://raw.githubusercontent.com/Ojtinjacar/AlgorithmsUN2020II/master/Lab5/symb_img_10.jpg\"/>"
      ]
    },
    {
      "cell_type": "markdown",
      "metadata": {
        "id": "5kiXLtjQ_dHk"
      },
      "source": [
        "2)\n",
        "\n",
        "$$\\int _0^{\\sqrt{\\pi }}\\int _0^x\\int _0^{xz}\\left(x^2sin\\left(y\\right)\\right)dydzdx$$"
      ]
    },
    {
      "cell_type": "code",
      "metadata": {
        "id": "4XyCi6J-63km",
        "outputId": "b0a0d5a6-9f52-4eab-f477-73578d625847",
        "colab": {
          "base_uri": "https://localhost:8080/"
        }
      },
      "source": [
        "import sympy\n",
        "\n",
        "x = sympy.Symbol(\"x\")\n",
        "y = sympy.Symbol(\"y\")\n",
        "z = sympy.Symbol(\"z\")\n",
        "\n",
        "i = sympy.integrate(x**2 * sympy.sin(y),(y,0,x*z))\n",
        "print(i)\n",
        "t = sympy.integrate(i,(z,0,x))\n",
        "print(t)\n",
        "r = sympy.integrate(t,(x,0,sympy.sqrt(sympy.pi)))\n",
        "print(r)\n",
        "\n",
        "print(\"Analytical result: {}\".format(r))\n"
      ],
      "execution_count": 154,
      "outputs": [
        {
          "output_type": "stream",
          "text": [
            "-x**2*cos(x*z) + x**2\n",
            "x**3 - x**2*Piecewise((x, Eq(x, 0)), (sin(x**2)/x, True))\n",
            "-1 + pi**2/4\n",
            "Analytical result: -1 + pi**2/4\n"
          ],
          "name": "stdout"
        }
      ]
    },
    {
      "cell_type": "markdown",
      "metadata": {
        "id": "-5qJVEzLFGRf"
      },
      "source": [
        "<img src=\"https://raw.githubusercontent.com/Ojtinjacar/AlgorithmsUN2020II/master/Lab5/symb_img_11.jpg\"/>"
      ]
    },
    {
      "cell_type": "markdown",
      "metadata": {
        "id": "QArzIx3cB1Uu"
      },
      "source": [
        "3) \n",
        "\n",
        "$$\\int _0^{\\pi }\\int _0^{2\\pi }\\int _0^1e^{\\left(x^2\\right)^{\\frac{3}{2}}}x^2sin\\left(z\\right)dxdydz$$"
      ]
    },
    {
      "cell_type": "code",
      "metadata": {
        "id": "bFQqqhqF_6dD",
        "outputId": "cbf78afc-29fb-479e-d037-ce5d72537d12",
        "colab": {
          "base_uri": "https://localhost:8080/"
        }
      },
      "source": [
        "import sympy\n",
        "import math\n",
        "x = sympy.Symbol(\"x\")\n",
        "y = sympy.Symbol(\"y\")\n",
        "z = sympy.Symbol(\"z\")\n",
        "\n",
        "i = sympy.integrate(sympy.exp(1)**(x**3) *x**2 * sympy.sin(z),(x,0,1))\n",
        "print(i)\n",
        "t = sympy.integrate(i,(y,0,2*sympy.pi))\n",
        "print(t)\n",
        "r = sympy.integrate(t,(z,0,sympy.pi))\n",
        "print(r)\n",
        "\n",
        "print(\"Analytical result: {}\".format(r))\n",
        "print(-2*math.pi*(-math.exp(1)/3 + 1/3) + 2*math.pi*(-1/3 + math.exp(1)/3))"
      ],
      "execution_count": 155,
      "outputs": [
        {
          "output_type": "stream",
          "text": [
            "-sin(z)/3 + E*sin(z)/3\n",
            "2*pi*(-sin(z)/3 + E*sin(z)/3)\n",
            "-2*pi*(-E/3 + 1/3) + 2*pi*(-1/3 + E/3)\n",
            "Analytical result: -2*pi*(-E/3 + 1/3) + 2*pi*(-1/3 + E/3)\n",
            "7.197522092111699\n"
          ],
          "name": "stdout"
        }
      ]
    },
    {
      "cell_type": "markdown",
      "metadata": {
        "id": "OxtRn1H7FIa-"
      },
      "source": [
        "<img src=\"https://raw.githubusercontent.com/Ojtinjacar/AlgorithmsUN2020II/master/Lab5/symb_img_12.jpg\"/>"
      ]
    },
    {
      "cell_type": "code",
      "metadata": {
        "id": "GEoN66muCVtz"
      },
      "source": [
        ""
      ],
      "execution_count": 155,
      "outputs": []
    }
  ]
}